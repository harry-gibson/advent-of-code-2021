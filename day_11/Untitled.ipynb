{
 "cells": [
  {
   "cell_type": "code",
   "execution_count": 1,
   "id": "3e578501-eea8-4dc1-9c6e-0240c6bd777a",
   "metadata": {},
   "outputs": [],
   "source": [
    "import numpy as np"
   ]
  },
  {
   "cell_type": "code",
   "execution_count": 142,
   "id": "3fc9df07-1118-4883-b7a7-5afecdc145c8",
   "metadata": {},
   "outputs": [],
   "source": [
    "data = np.genfromtxt('./input.txt', delimiter=1).astype(np.int_)"
   ]
  },
  {
   "cell_type": "code",
   "execution_count": 144,
   "id": "cfce9c4a-ea1d-41d2-845e-b1d5b481a149",
   "metadata": {},
   "outputs": [
    {
     "data": {
      "text/plain": [
       "array([[4, 8, 7, 1, 2, 5, 2, 7, 6, 3],\n",
       "       [8, 5, 3, 3, 4, 2, 8, 1, 7, 3],\n",
       "       [7, 1, 8, 2, 1, 8, 6, 8, 1, 3],\n",
       "       [2, 1, 2, 8, 4, 4, 1, 5, 4, 1],\n",
       "       [3, 7, 2, 2, 2, 7, 2, 2, 7, 2],\n",
       "       [8, 7, 5, 1, 6, 8, 3, 4, 4, 3],\n",
       "       [3, 1, 3, 5, 5, 7, 1, 1, 5, 3],\n",
       "       [5, 8, 1, 6, 3, 2, 1, 5, 7, 2],\n",
       "       [2, 6, 5, 1, 3, 4, 7, 2, 7, 1],\n",
       "       [7, 7, 8, 8, 1, 5, 4, 2, 5, 2]])"
      ]
     },
     "execution_count": 144,
     "metadata": {},
     "output_type": "execute_result"
    }
   ],
   "source": [
    "data"
   ]
  },
  {
   "cell_type": "code",
   "execution_count": 115,
   "id": "0b258989-26d7-4c21-9b0a-7a3991c9df53",
   "metadata": {},
   "outputs": [],
   "source": [
    "NBR_OFFSETS = (np.indices([3, 3])-1).T.reshape(9,2)\n",
    "NBR_OFFSETS = np.delete(NBR_OFFSETS, 4, axis=0)\n",
    "\n",
    "def octo_step(octogrid):\n",
    "    grid_shape = octogrid.shape[0]\n",
    "    assert grid_shape == octogrid.shape[1]  # if not, handle it in the coord bounds check below\n",
    "    energy_lvls = octogrid + 1\n",
    "    now_flash_coords = np.argwhere(energy_lvls > 9)\n",
    "    just_flashed_mask = np.zeros_like(energy_lvls)\n",
    "    n_flashes = 0\n",
    "    while len(now_flash_coords) > 0:\n",
    "        n_flashes += len(now_flash_coords)\n",
    "        for flash_pos in now_flash_coords:\n",
    "            just_flashed_mask[flash_pos[0], flash_pos[1]] = 1\n",
    "            flashing_nbr_coords = (NBR_OFFSETS + flash_pos)\n",
    "            flashing_nbr_coords = flashing_nbr_coords[\n",
    "                np.logical_and(\n",
    "                    flashing_nbr_coords.min(axis=1) >= 0,  \n",
    "                    flashing_nbr_coords.max(axis=1) < grid_shape)\n",
    "            ].T\n",
    "            energy_lvls[flashing_nbr_coords[0], flashing_nbr_coords[1]] += 1\n",
    "        energy_lvls = energy_lvls * np.logical_not(just_flashed_mask)\n",
    "        now_flash_coords = np.argwhere(energy_lvls > 9)\n",
    "    return energy_lvls, n_flashes"
   ]
  },
  {
   "cell_type": "code",
   "execution_count": 138,
   "id": "d61062f8-f1d5-49d6-8687-b1821464318e",
   "metadata": {},
   "outputs": [],
   "source": [
    "total_flashes = 0\n",
    "state = data\n",
    "step_no = 0\n",
    "all_flashed_step = -1"
   ]
  },
  {
   "cell_type": "code",
   "execution_count": 139,
   "id": "ccc1a1fc-5095-4cd1-99ac-398250828aaa",
   "metadata": {},
   "outputs": [],
   "source": [
    "while(True):\n",
    "    state, n_flashed = octo_step(state)\n",
    "    if step_no < 100:\n",
    "        total_flashes += n_flashed\n",
    "    if n_flashed == 100:\n",
    "        all_flashed_step = step_no + 1\n",
    "        break\n",
    "    step_no += 1"
   ]
  },
  {
   "cell_type": "code",
   "execution_count": 140,
   "id": "899b89e3-460f-4451-af22-65f39ee7ffd9",
   "metadata": {},
   "outputs": [
    {
     "data": {
      "text/plain": [
       "1747"
      ]
     },
     "execution_count": 140,
     "metadata": {},
     "output_type": "execute_result"
    }
   ],
   "source": [
    "total_flashes"
   ]
  },
  {
   "cell_type": "code",
   "execution_count": 141,
   "id": "04c6a8dc-c57b-4047-9fbe-a8f59ac17887",
   "metadata": {},
   "outputs": [
    {
     "data": {
      "text/plain": [
       "505"
      ]
     },
     "execution_count": 141,
     "metadata": {},
     "output_type": "execute_result"
    }
   ],
   "source": [
    "all_flashed_step"
   ]
  },
  {
   "cell_type": "markdown",
   "id": "0cbd4ac3-44dd-416f-822c-df1ea036eb8f",
   "metadata": {},
   "source": [
    "# josh's solution to see what the answer should be..."
   ]
  },
  {
   "cell_type": "code",
   "execution_count": 36,
   "id": "c7eb9da8-bce7-46ff-962c-ca55375ab84c",
   "metadata": {},
   "outputs": [
    {
     "name": "stdout",
     "output_type": "stream",
     "text": [
      "1747\n"
     ]
    }
   ],
   "source": [
    "# Day 11 : Dumbo Octopus\n",
    "\n",
    "## Part 1\n",
    "\n",
    "\n",
    "import numpy as np\n",
    "from scipy.ndimage.morphology import binary_dilation\n",
    "from scipy.ndimage import generate_binary_structure\n",
    "from functools import partial\n",
    "\n",
    "\n",
    "# define dilation\n",
    "selem = generate_binary_structure(2, 2)\n",
    "dilate = partial(binary_dilation, structure=selem)\n",
    "\n",
    "\n",
    "# define class to combine flashes\n",
    "class FlashMask:\n",
    "\n",
    "    def __init__(self, shape):\n",
    "        self.shape = shape\n",
    "        self.array = np.zeros(shape)\n",
    "        self.count = 0\n",
    "    \n",
    "    def __add__(self, array):\n",
    "        return array + self.array\n",
    "\n",
    "    def __new_mask(self, i, j):\n",
    "        mask = np.zeros(self.shape)\n",
    "        mask[i, j] = 1\n",
    "        return dilate(mask)\n",
    "\n",
    "    def add(self, i, j):\n",
    "        mask = self.__new_mask(i, j)\n",
    "        self.array += mask\n",
    "        self.count += 1\n",
    "\n",
    "    def reset(self):\n",
    "        self.array = np.zeros(self.shape)\n",
    "\n",
    "\n",
    "# load octopi\n",
    "#octopi = open(\"input.txt\").read().split(\"\\n\")\n",
    "#octopi = np.array([list(o) for o in octopi], dtype=int)\n",
    "octopi = np.genfromtxt('./input.txt', delimiter=1)\n",
    "\n",
    "# initialise flash mask\n",
    "flash_mask = FlashMask(octopi.shape)\n",
    "\n",
    "\n",
    "# iterate days\n",
    "n_days = 100\n",
    "for day in range(n_days):\n",
    "\n",
    "    # Add 1 to all\n",
    "    octopi += 1\n",
    "\n",
    "    # find flashes\n",
    "    flashes = octopi > 9\n",
    "    \n",
    "    # while there are more to flash, keep flashing!\n",
    "    while np.sum(flashes) > 0:\n",
    "\n",
    "        # Add flashes\n",
    "        for i, j in np.argwhere(flashes):\n",
    "            flash_mask.add(i, j)\n",
    "        octopi = flash_mask + octopi\n",
    "\n",
    "        # update params\n",
    "        octopi[flashes] = -np.inf\n",
    "        flashes = octopi > 9\n",
    "        flash_mask.reset()\n",
    "    \n",
    "    # Set flashers to 0 energy\n",
    "    octopi[octopi == -np.inf] = 0\n",
    "\n",
    "\n",
    "print(flash_mask.count)"
   ]
  },
  {
   "cell_type": "code",
   "execution_count": null,
   "id": "18f65c82-6179-47f1-9e79-34704028bb23",
   "metadata": {},
   "outputs": [],
   "source": []
  }
 ],
 "metadata": {
  "kernelspec": {
   "display_name": "Python 3",
   "language": "python",
   "name": "python3"
  },
  "language_info": {
   "codemirror_mode": {
    "name": "ipython",
    "version": 3
   },
   "file_extension": ".py",
   "mimetype": "text/x-python",
   "name": "python",
   "nbconvert_exporter": "python",
   "pygments_lexer": "ipython3",
   "version": "3.8.8"
  }
 },
 "nbformat": 4,
 "nbformat_minor": 5
}
