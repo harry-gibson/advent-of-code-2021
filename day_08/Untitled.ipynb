{
 "cells": [
  {
   "cell_type": "code",
   "execution_count": 6,
   "id": "a0c419c9-ed90-406e-895c-8587252403d4",
   "metadata": {},
   "outputs": [
    {
     "data": {
      "text/plain": [
       "409"
      ]
     },
     "execution_count": 6,
     "metadata": {},
     "output_type": "execute_result"
    }
   ],
   "source": [
    "n_1478 = 0\n",
    "with open('./input.txt') as f:\n",
    "    for line in f.readlines():\n",
    "        output = line.split(' | ')[1].strip()\n",
    "        words = output.split(' ')\n",
    "        n_1478 += sum([1 for w in words if len(w) in [2,3,4,7]])\n",
    "n_1478\n",
    "        \n",
    "\n",
    "    "
   ]
  },
  {
   "cell_type": "markdown",
   "id": "e240d479-029a-476c-b66c-a3675e20144d",
   "metadata": {},
   "source": [
    "```\n",
    "0 = 6 segs\n",
    "1 = 2 segs\n",
    "2 = 5 segs\n",
    "3 = 5 segs\n",
    "4 = 4 sgs\n",
    "5 = 5 segs\n",
    "6 = 6 segs\n",
    "7 = 3 segs\n",
    "8 = 7 segs\n",
    "9 = 6 segs\n",
    "```"
   ]
  },
  {
   "cell_type": "markdown",
   "id": "0cb91ebe-ec61-4687-9ea1-5e10f5ca35d7",
   "metadata": {},
   "source": [
    "```\n",
    "0 = abcefg\n",
    "1 = cf\n",
    "2 = acdeg\n",
    "3 = acdfg\n",
    "4 = bcdf\n",
    "5 = abdfg\n",
    "6 = abdefg\n",
    "7 = acf\n",
    "8 = abcdefg\n",
    "9 = abcdfg\n",
    "\n",
    "in 7 and not 1 = a\n",
    "in 4 and not 1 = b,d\n",
    "len 6, in 0 and 9 but not in 6 = c\n",
    "len 5, in 2 but not in 3 or 5 = e\n",
    "in all but one = f (and that one is 2)\n",
    "whichever is left = g\n",
    "\n",
    "total_occs:\n",
    "a: 8\n",
    "b: 6\n",
    "c: 8\n",
    "d: 7\n",
    "e: 4\n",
    "f: 9\n",
    "g: 7\n",
    "```"
   ]
  },
  {
   "cell_type": "code",
   "execution_count": 60,
   "id": "b09c2bc2-6729-4f32-bee2-a2024042b76d",
   "metadata": {},
   "outputs": [],
   "source": [
    "def find_segs(words):\n",
    "    allchars = ''.join(words)\n",
    "    charset = set('abcdefg')\n",
    "    \n",
    "    digit7 = [w for w in words if len(w) == 3][0]\n",
    "    digit1 = [w for w in words if len(w) == 2][0]\n",
    "    seg_a = [c for c in digit7 if c not in digit1][0]\n",
    "    \n",
    "    seg_b = [c for c in charset if allchars.count(c) == 6][0]\n",
    "    seg_e = [c for c in charset if allchars.count(c) == 4][0]\n",
    "    seg_f = [c for c in charset if allchars.count(c) == 9][0]\n",
    "    \n",
    "    digit4 = [w for w in words if len(w) == 4][0]\n",
    "    seg_d = [c for c in digit4 if c not in digit1 and c != seg_b][0]\n",
    "    \n",
    "    seg_c = [c for c in charset if allchars.count(c) == 8 and c != seg_a][0]\n",
    "    seg_g = charset.difference(set([seg_a,seg_b,seg_c, seg_d, seg_e, seg_f])).pop()\n",
    "    return {\n",
    "        seg_a: 'a',\n",
    "        seg_b: 'b',\n",
    "        seg_c: 'c',\n",
    "        seg_d: 'd',\n",
    "        seg_e: 'e',\n",
    "        seg_f: 'f',\n",
    "        seg_g: 'g'\n",
    "    }\n",
    "    \n"
   ]
  },
  {
   "cell_type": "code",
   "execution_count": 72,
   "id": "c4687ba9-966a-4b0c-93e1-704e6edcb7d3",
   "metadata": {},
   "outputs": [],
   "source": [
    "DIGITS = {\n",
    "    'abcefg': '0',\n",
    "    'cf': '1',\n",
    "    'acdeg': '2',\n",
    "    'acdfg': '3',\n",
    "    'bcdf': '4',\n",
    "    'abdfg': '5',\n",
    "    'abdefg': '6',\n",
    "    'acf': '7',\n",
    "    'abcdefg': '8',\n",
    "    'abcdfg': '9'\n",
    "}\n",
    "def translate_digit(word, mapping):\n",
    "    translated_word = [mapping[c] for c in word]\n",
    "    return DIGITS[''.join(sorted(translated_word))]"
   ]
  },
  {
   "cell_type": "code",
   "execution_count": 77,
   "id": "b65e0ff1-da5f-4cb0-b751-1f5624dea742",
   "metadata": {},
   "outputs": [
    {
     "data": {
      "text/plain": [
       "['acedgfb',\n",
       " 'cdfbe',\n",
       " 'gcdfa',\n",
       " 'fbcad',\n",
       " 'dab',\n",
       " 'cefabd',\n",
       " 'cdfgeb',\n",
       " 'eafb',\n",
       " 'cagedb',\n",
       " 'ab']"
      ]
     },
     "execution_count": 77,
     "metadata": {},
     "output_type": "execute_result"
    }
   ],
   "source": [
    "sample_line = 'acedgfb cdfbe gcdfa fbcad dab cefabd cdfgeb eafb cagedb ab | cdfeb fcadb cdfeb cdbaf'\n",
    "in_maps, in_digits = [p.split(' ') for p in sample_line.split(' | ')]\n",
    "#in_maps = sample_line.split(' | ')[0].split(' ')\n",
    "#in_digits = sample_line.split(' | ')[1].split(' ')\n",
    "in_maps"
   ]
  },
  {
   "cell_type": "code",
   "execution_count": 74,
   "id": "ce485aab-0036-41c4-9d12-6d3b0c38f1d4",
   "metadata": {},
   "outputs": [
    {
     "data": {
      "text/plain": [
       "{'d': 'a', 'e': 'b', 'a': 'c', 'f': 'd', 'g': 'e', 'b': 'f', 'c': 'g'}"
      ]
     },
     "execution_count": 74,
     "metadata": {},
     "output_type": "execute_result"
    }
   ],
   "source": [
    "mapping = find_segs(in_maps)\n",
    "mapping"
   ]
  },
  {
   "cell_type": "code",
   "execution_count": 76,
   "id": "48a621c5-05b7-417f-a61d-67f8acbc19a4",
   "metadata": {},
   "outputs": [
    {
     "data": {
      "text/plain": [
       "5353"
      ]
     },
     "execution_count": 76,
     "metadata": {},
     "output_type": "execute_result"
    }
   ],
   "source": [
    "int(''.join([translate_digit(d, mapping) for d in in_digits]))\n"
   ]
  },
  {
   "cell_type": "code",
   "execution_count": 57,
   "id": "64d7fe1e-7a93-40eb-be01-4cdd0404220b",
   "metadata": {},
   "outputs": [
    {
     "data": {
      "text/plain": [
       "['d', 'e', 'f', 's', 'w']"
      ]
     },
     "execution_count": 57,
     "metadata": {},
     "output_type": "execute_result"
    }
   ],
   "source": [
    "sorted('sdfew')"
   ]
  },
  {
   "cell_type": "code",
   "execution_count": 82,
   "id": "68596875-c21e-429c-90e7-1845eaacb081",
   "metadata": {},
   "outputs": [
    {
     "data": {
      "text/plain": [
       "1024649"
      ]
     },
     "execution_count": 82,
     "metadata": {},
     "output_type": "execute_result"
    }
   ],
   "source": [
    "total = 0\n",
    "with open('./input.txt') as f:\n",
    "    for line in f.readlines():\n",
    "        in_maps, in_digits = [p.split(' ') for p in line.strip().split(' | ')]\n",
    "        mapping = find_segs(in_maps)\n",
    "        total += int(''.join([translate_digit(d, mapping) for d in in_digits]))\n",
    "        \n",
    "total\n",
    "        \n"
   ]
  },
  {
   "cell_type": "code",
   "execution_count": 80,
   "id": "2c97edcb-50be-4fc8-a3b4-b1077f0ffb20",
   "metadata": {},
   "outputs": [
    {
     "data": {
      "text/plain": [
       "{'d': 'a', 'e': 'b', 'a': 'c', 'f': 'd', 'g': 'e', 'b': 'f', 'c': 'g'}"
      ]
     },
     "execution_count": 80,
     "metadata": {},
     "output_type": "execute_result"
    }
   ],
   "source": [
    "mapping"
   ]
  },
  {
   "cell_type": "code",
   "execution_count": null,
   "id": "3f912381-1a51-4f7c-ba13-c0c904e39bf4",
   "metadata": {},
   "outputs": [],
   "source": []
  }
 ],
 "metadata": {
  "kernelspec": {
   "display_name": "Python 3",
   "language": "python",
   "name": "python3"
  },
  "language_info": {
   "codemirror_mode": {
    "name": "ipython",
    "version": 3
   },
   "file_extension": ".py",
   "mimetype": "text/x-python",
   "name": "python",
   "nbconvert_exporter": "python",
   "pygments_lexer": "ipython3",
   "version": "3.8.8"
  }
 },
 "nbformat": 4,
 "nbformat_minor": 5
}
