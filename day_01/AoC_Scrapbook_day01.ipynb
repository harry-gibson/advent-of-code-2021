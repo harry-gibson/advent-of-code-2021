{
 "cells": [
  {
   "cell_type": "code",
   "execution_count": 1,
   "id": "1f2f8eec-83eb-4302-94cb-ae8fb52618a1",
   "metadata": {},
   "outputs": [],
   "source": [
    "import numpy as np\n",
    "\n",
    "infile = 'day_01/input.txt'"
   ]
  },
  {
   "cell_type": "markdown",
   "id": "8ffea763-8a96-440f-a808-bc31bb47157d",
   "metadata": {},
   "source": [
    "### HG"
   ]
  },
  {
   "cell_type": "code",
   "execution_count": 2,
   "id": "67ac7672-6fc0-4117-8381-a197c29c4e41",
   "metadata": {},
   "outputs": [],
   "source": [
    "data = np.recfromtxt(infile)"
   ]
  },
  {
   "cell_type": "code",
   "execution_count": 3,
   "id": "4f2cfb6e-9a3b-4b95-9bf1-eb1370468f36",
   "metadata": {},
   "outputs": [
    {
     "name": "stdout",
     "output_type": "stream",
     "text": [
      "10.8 µs ± 191 ns per loop (mean ± std. dev. of 7 runs, 100000 loops each)\n"
     ]
    }
   ],
   "source": [
    "%%timeit\n",
    "increases = data[1:] > data[:-1]\n",
    "res = np.sum(increases)"
   ]
  },
  {
   "cell_type": "code",
   "execution_count": 4,
   "id": "f70c6c74-e0f2-4f51-9aee-f1e522de193c",
   "metadata": {},
   "outputs": [
    {
     "name": "stdout",
     "output_type": "stream",
     "text": [
      "45.4 µs ± 767 ns per loop (mean ± std. dev. of 7 runs, 10000 loops each)\n"
     ]
    }
   ],
   "source": [
    "%%timeit\n",
    "window_size = 3\n",
    "strided_shape = data.shape[:-1] + (data.shape[-1] - window_size + 1, window_size)\n",
    "window_strides = data.strides + (data.strides[-1],)\n",
    "\n",
    "moving_windows = np.lib.stride_tricks.as_strided(\n",
    "    data, \n",
    "    shape=strided_shape, \n",
    "    strides=window_strides)\n",
    "window_sums = np.sum(moving_windows, axis=-1)\n",
    "window_increases = window_sums[1:] > window_sums[:-1]\n",
    "res_2 = np.sum(window_increases)"
   ]
  },
  {
   "cell_type": "code",
   "execution_count": 5,
   "id": "5664f492-0807-406b-8c46-5ab4dae9cd92",
   "metadata": {},
   "outputs": [
    {
     "name": "stdout",
     "output_type": "stream",
     "text": [
      "10.9 µs ± 42 ns per loop (mean ± std. dev. of 7 runs, 100000 loops each)\n"
     ]
    }
   ],
   "source": [
    "%%timeit\n",
    "increases_2 = data[3:] > data[:-3]\n",
    "res_2b = np.sum(increases_2)"
   ]
  },
  {
   "cell_type": "markdown",
   "id": "d98b29bc-ed2b-4a8f-a556-31664b9df7eb",
   "metadata": {},
   "source": [
    "## JY"
   ]
  },
  {
   "cell_type": "code",
   "execution_count": 6,
   "id": "2c4fc5f8-249b-48d4-98b8-0ab12cfc777b",
   "metadata": {},
   "outputs": [],
   "source": [
    "input = list(data)"
   ]
  },
  {
   "cell_type": "code",
   "execution_count": 17,
   "id": "b186e1f0-0cbb-4e32-92f5-7b4b9c4c82c1",
   "metadata": {},
   "outputs": [],
   "source": [
    "%%timeit\n",
    "res1 = len([True for i in range(len(input)-1) if input[i+1] > input[i]])"
   ]
  },
  {
   "cell_type": "code",
   "execution_count": 11,
   "id": "983f3a6d-76c1-4f96-a911-8d09e8be2179",
   "metadata": {},
   "outputs": [
    {
     "name": "stdout",
     "output_type": "stream",
     "text": [
      "1.54 ms ± 7.88 µs per loop (mean ± std. dev. of 7 runs, 1000 loops each)\n"
     ]
    }
   ],
   "source": [
    "%%timeit\n",
    "res2 = len([True for i in range(len(input)) if sum(input[i+1:i+4]) > sum(input[i:i+3])])"
   ]
  },
  {
   "cell_type": "markdown",
   "id": "e2b0b061-ac22-4e1e-bd4d-28d73f6d6ac5",
   "metadata": {},
   "source": [
    "## DH"
   ]
  },
  {
   "cell_type": "code",
   "execution_count": 21,
   "id": "0feb9076-65b6-4816-a356-0173609fb314",
   "metadata": {},
   "outputs": [
    {
     "name": "stdout",
     "output_type": "stream",
     "text": [
      "17.8 µs ± 913 ns per loop (mean ± std. dev. of 7 runs, 100000 loops each)\n"
     ]
    }
   ],
   "source": [
    "%%timeit \n",
    "sonar_diffs = np.diff(data)\n",
    "res = int(np.sum(sonar_diffs > 0))"
   ]
  },
  {
   "cell_type": "code",
   "execution_count": 25,
   "id": "86b914ec-ca50-40bf-98e4-10387028c9f4",
   "metadata": {},
   "outputs": [
    {
     "name": "stdout",
     "output_type": "stream",
     "text": [
      "23.1 µs ± 479 ns per loop (mean ± std. dev. of 7 runs, 10000 loops each)\n"
     ]
    }
   ],
   "source": [
    "%%timeit\n",
    "sonar_rolling_sum = np.convolve(data, np.ones(3, dtype=int), 'valid')\n",
    "sonar_diffs = np.diff(sonar_rolling_sum)\n",
    "res2 = int(np.sum(sonar_diffs > 0))"
   ]
  },
  {
   "cell_type": "markdown",
   "id": "884ec12e-51ff-41c2-b8bf-d39b998487f7",
   "metadata": {},
   "source": [
    "## FH"
   ]
  },
  {
   "cell_type": "code",
   "execution_count": 27,
   "id": "71fc0955-220e-47fd-ba43-e6cfcd123783",
   "metadata": {},
   "outputs": [
    {
     "name": "stdout",
     "output_type": "stream",
     "text": [
      "17.3 µs ± 448 ns per loop (mean ± std. dev. of 7 runs, 100000 loops each)\n"
     ]
    }
   ],
   "source": [
    "%%timeit\n",
    "# same as DH1\n",
    "increase = np.diff(data)\n",
    "n_increase = np.sum(increase > 0)"
   ]
  },
  {
   "cell_type": "code",
   "execution_count": 30,
   "id": "009bed83-e434-42ad-a503-b7f5046f6e77",
   "metadata": {},
   "outputs": [
    {
     "name": "stdout",
     "output_type": "stream",
     "text": [
      "34 µs ± 622 ns per loop (mean ± std. dev. of 7 runs, 10000 loops each)\n"
     ]
    }
   ],
   "source": [
    "%%timeit\n",
    "distance_stacked = np.vstack((data[:-2], data[1:-1], data[2:]))\n",
    "sum_stacked = np.sum(distance_stacked, axis=0)\n",
    "increase = np.diff(sum_stacked)\n",
    "n_increase = np.sum(increase > 0)"
   ]
  }
 ],
 "metadata": {
  "kernelspec": {
   "display_name": "Python 3",
   "language": "python",
   "name": "python3"
  },
  "language_info": {
   "codemirror_mode": {
    "name": "ipython",
    "version": 3
   },
   "file_extension": ".py",
   "mimetype": "text/x-python",
   "name": "python",
   "nbconvert_exporter": "python",
   "pygments_lexer": "ipython3",
   "version": "3.8.8"
  }
 },
 "nbformat": 4,
 "nbformat_minor": 5
}
