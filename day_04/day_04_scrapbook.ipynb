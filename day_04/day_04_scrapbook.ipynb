{
 "cells": [
  {
   "cell_type": "code",
   "execution_count": 1,
   "id": "954cc0a8-2e09-430e-bb04-1f30260952d6",
   "metadata": {},
   "outputs": [],
   "source": [
    "import numpy as np"
   ]
  },
  {
   "cell_type": "code",
   "execution_count": 2,
   "id": "43fd5f19-4449-449d-a745-63d533ac978e",
   "metadata": {},
   "outputs": [],
   "source": [
    "with open('input.txt') as f:\n",
    "    items = f.read().split('\\n\\n')"
   ]
  },
  {
   "cell_type": "code",
   "execution_count": 82,
   "id": "1cae87f7-dc4b-461b-9ac0-9a18732533cf",
   "metadata": {},
   "outputs": [],
   "source": [
    "numbers = [int(i) for i in items[0].split(',')]"
   ]
  },
  {
   "cell_type": "code",
   "execution_count": 83,
   "id": "7c6e7872-e09f-4449-9955-c1c3be268df2",
   "metadata": {},
   "outputs": [
    {
     "data": {
      "text/plain": [
       "'83,5,71,61,88,55,95,6,0,97,20,16,27,7,79,25,81,29,22,52,43,21,53,59,99,18,35,96,51,93,14,77,15,3,57,28,58,17,50,32,74,63,76,84,65,9,62,67,48,12,8,68,31,19,36,85,98,30,91,89,66,80,75,47,4,23,60,70,87,90,13,38,56,34,46,24,41,92,37,49,73,10,94,26,42,40,33,54,86,82,72,39,2,45,78,11,1,44,69,64'"
      ]
     },
     "execution_count": 83,
     "metadata": {},
     "output_type": "execute_result"
    }
   ],
   "source": [
    "items[0]"
   ]
  },
  {
   "cell_type": "code",
   "execution_count": 17,
   "id": "67a5db25-ed82-40a9-b8a2-88de318ae594",
   "metadata": {},
   "outputs": [
    {
     "data": {
      "text/plain": [
       "array([[97., 62., 17.,  5., 79.],\n",
       "       [ 1., 99., 98., 80., 84.],\n",
       "       [44., 16.,  2., 40., 94.],\n",
       "       [68., 95., 49., 32.,  8.],\n",
       "       [38., 35., 23., 89.,  3.]])"
      ]
     },
     "execution_count": 17,
     "metadata": {},
     "output_type": "execute_result"
    }
   ],
   "source": [
    "board = np.fromstring(items[1], sep=' ').reshape((5,5))\n",
    "board"
   ]
  },
  {
   "cell_type": "code",
   "execution_count": 126,
   "id": "3aaec475-df85-43e6-a463-e55f424fe769",
   "metadata": {},
   "outputs": [],
   "source": [
    "class BingoBoard:\n",
    "    \n",
    "    def __init__(self, board_array):\n",
    "        self.board = board_array\n",
    "        self.marks = np.zeros_like(board_array, dtype=np.bool_)\n",
    "        self.last_play = None\n",
    "        self.bingoed = False\n",
    "        \n",
    "    def play(self, number) -> bool:\n",
    "        self.marks = self.marks | (self.board == number)\n",
    "        self.last_play = number\n",
    "        return self.is_bingo()\n",
    "    \n",
    "    def is_bingo(self) -> bool:\n",
    "        if self.bingoed:\n",
    "            return None\n",
    "        is_bingo_now = np.any([self.marks.all(axis=0), self.marks.all(axis=1)])\n",
    "        self.bingoed = self.bingoed or is_bingo_now\n",
    "        return is_bingo_now\n",
    "    \n",
    "    def score(self) -> int:\n",
    "        return self.board[~self.marks].sum() * self.last_play"
   ]
  },
  {
   "cell_type": "code",
   "execution_count": 109,
   "id": "ddaff300-8ee0-404b-bdb2-9692300e047c",
   "metadata": {},
   "outputs": [],
   "source": []
  },
  {
   "cell_type": "code",
   "execution_count": 127,
   "id": "602f7b0d-edf2-4455-ab05-1575ac34649a",
   "metadata": {},
   "outputs": [
    {
     "name": "stdout",
     "output_type": "stream",
     "text": [
      "Bingo!\n",
      "Part 1 answer: 16716.0\n"
     ]
    }
   ],
   "source": [
    "boards = [BingoBoard(np.fromstring(board_txt, sep=' ').reshape((5,5)))\n",
    "         for board_txt in items[1:]]\n",
    "for turn, number in enumerate(numbers):\n",
    "    for board in boards:\n",
    "        if board.play(number):\n",
    "            print(\"Bingo!\")\n",
    "            print(f\"Part 1 answer: {board.score()}\")\n",
    "            done = True\n",
    "            break\n",
    "    else:\n",
    "        continue\n",
    "    break"
   ]
  },
  {
   "cell_type": "code",
   "execution_count": 131,
   "id": "f1dfee51-7016-4d3a-9528-0aaea85ce52f",
   "metadata": {},
   "outputs": [
    {
     "name": "stdout",
     "output_type": "stream",
     "text": [
      "Part 2 answer: 4880.0\n"
     ]
    }
   ],
   "source": [
    "boards = [BingoBoard(np.fromstring(board_txt, sep=' ').reshape((5,5)))\n",
    "         for board_txt in items[1:]]\n",
    "n_finished = 0\n",
    "for turn, number in enumerate(numbers):\n",
    "    for board in boards:\n",
    "        if board.play(number):\n",
    "            n_finished += 1\n",
    "            if n_finished == len(boards):\n",
    "                break\n",
    "    else:\n",
    "        continue\n",
    "    print (f\"Part 2 answer: {board.score()}\")\n",
    "    break"
   ]
  },
  {
   "cell_type": "code",
   "execution_count": null,
   "id": "e5df88d0-eb2a-4999-92f7-3dc986c8f2ce",
   "metadata": {},
   "outputs": [],
   "source": []
  }
 ],
 "metadata": {
  "kernelspec": {
   "display_name": "Python 3",
   "language": "python",
   "name": "python3"
  },
  "language_info": {
   "codemirror_mode": {
    "name": "ipython",
    "version": 3
   },
   "file_extension": ".py",
   "mimetype": "text/x-python",
   "name": "python",
   "nbconvert_exporter": "python",
   "pygments_lexer": "ipython3",
   "version": "3.8.8"
  }
 },
 "nbformat": 4,
 "nbformat_minor": 5
}
