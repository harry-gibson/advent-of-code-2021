{
 "cells": [
  {
   "cell_type": "code",
   "execution_count": 1,
   "id": "0d1d030c-5913-49aa-bc4a-19cdece5ab85",
   "metadata": {},
   "outputs": [],
   "source": [
    "import numpy as np"
   ]
  },
  {
   "cell_type": "code",
   "execution_count": 157,
   "id": "09d0a5ff-8c13-450d-85bb-c370eff71802",
   "metadata": {},
   "outputs": [],
   "source": [
    "with open('./input.txt') as f:\n",
    "    items = [r.strip().split(' -> ') for r in f]"
   ]
  },
  {
   "cell_type": "code",
   "execution_count": 173,
   "id": "d5028bb0-6e00-4b59-b10c-1a31493305fa",
   "metadata": {},
   "outputs": [],
   "source": [
    "class pt:\n",
    "    \n",
    "    def __init__(self, coord_str):\n",
    "        x_str, y_str = coord_str.split(',')\n",
    "        self.x = int(x_str)\n",
    "        self.y = int(y_str)\n",
    "    \n",
    "    def is_orthogonal_to(self, other_pt):\n",
    "        return self.x == other_pt.x or self.y == other_pt.y\n",
    "    \n",
    "    def __str__(self):\n",
    "        return f\"({self.x},{self.y})\"\n",
    "    \n",
    "    \n",
    "class VentLine:\n",
    "    \n",
    "    def __init__(self, file_line):\n",
    "        from_str, to_str = file_line.strip().split(' -> ')\n",
    "        self.from_pt = pt(from_str)\n",
    "        self.to_pt = pt(to_str)\n",
    "    \n",
    "    def __str__(self):\n",
    "        return f\"{str(self.from_pt)} -> {str(self.to_pt)}\"\n",
    "    \n",
    "    def is_orthogonal(self) -> bool:\n",
    "        return self.from_pt.is_orthogonal_to(self.to_pt)\n",
    "    \n",
    "    def is_horizontal(self) -> bool:\n",
    "        return self.from_pt.y == self.to_pt.y\n",
    "    \n",
    "    def min_coords(self):\n",
    "        return (min(self.from_pt.x, self.to_pt.x), min(self.from_pt.y, self.to_pt.y))\n",
    "    \n",
    "    def max_coords(self):\n",
    "        return (max(self.from_pt.x, self.to_pt.x), max(self.from_pt.y, self.to_pt.y))\n",
    "    \n",
    "    def draw_line_on_seabed(self, seabed_array):\n",
    "        if not self.is_orthogonal():\n",
    "            # could adapt this part2 solution to do part1 as well, just change the arange step\n",
    "            dx = np.sign(self.to_pt.x - self.from_pt.x)\n",
    "            dy = np.sign(self.to_pt.y - self.from_pt.y)\n",
    "            xcoords = np.arange(self.from_pt.x, self.to_pt.x + dx, dx)\n",
    "            ycoords = np.arange(self.from_pt.y, self.to_pt.y + dy, dy)\n",
    "            # NB we can't return the index-based slice and update it in the caller as that would \n",
    "            # be a copy not a view so the array would not be affected\n",
    "            seabed_array[ycoords, xcoords] += 1\n",
    "        \n",
    "        elif self.is_horizontal():\n",
    "            # we could return the slice and do the increment it in caller as it's a view\n",
    "            seabed_array[self.from_pt.y, \n",
    "                        self.min_coords()[0]: self.max_coords()[0]+1] += 1\n",
    "\n",
    "        else:\n",
    "            # we could return this slice and do the increment in the caller as it's a view\n",
    "            seabed_array[self.min_coords()[1] : self.max_coords()[1]+1, \n",
    "                        self.from_pt.x] += 1\n",
    "        "
   ]
  },
  {
   "cell_type": "code",
   "execution_count": 174,
   "id": "841de065-fca9-48c2-b96b-e3f3b19075a7",
   "metadata": {},
   "outputs": [
    {
     "data": {
      "text/plain": [
       "500"
      ]
     },
     "execution_count": 174,
     "metadata": {},
     "output_type": "execute_result"
    }
   ],
   "source": [
    "vent_lines = [VentLine(line) for line in open('./input.txt').readlines()]\n",
    "len(vent_lines)"
   ]
  },
  {
   "cell_type": "code",
   "execution_count": 175,
   "id": "96d4f24f-a1c2-432e-8e4c-3e36f8f9f60b",
   "metadata": {},
   "outputs": [
    {
     "data": {
      "text/plain": [
       "347"
      ]
     },
     "execution_count": 175,
     "metadata": {},
     "output_type": "execute_result"
    }
   ],
   "source": [
    "orthog_lines = [v for v in vent_lines if v.is_orthogonal()]\n",
    "len(orthog_lines)"
   ]
  },
  {
   "cell_type": "code",
   "execution_count": 168,
   "id": "cdebb12f-5d03-4cb8-92c3-fe3220cda3ca",
   "metadata": {},
   "outputs": [
    {
     "data": {
      "text/plain": [
       "153"
      ]
     },
     "execution_count": 168,
     "metadata": {},
     "output_type": "execute_result"
    }
   ],
   "source": [
    "diag_lines = [v for v in vent_lines if not v.is_orthogonal()]\n",
    "len(diag_lines)"
   ]
  },
  {
   "cell_type": "code",
   "execution_count": 176,
   "id": "6ce72a34-2efb-4053-a6de-d7b84b69d0a2",
   "metadata": {},
   "outputs": [],
   "source": [
    "seabed_size_x = max([v.max_coords()[0] for v in vent_lines])\n",
    "seabed_size_y = max([v.max_coords()[1] for v in vent_lines])"
   ]
  },
  {
   "cell_type": "code",
   "execution_count": 177,
   "id": "2e0a529a-c060-410f-a5fc-d4b5d694c45d",
   "metadata": {},
   "outputs": [
    {
     "data": {
      "text/plain": [
       "(989, 989)"
      ]
     },
     "execution_count": 177,
     "metadata": {},
     "output_type": "execute_result"
    }
   ],
   "source": [
    "seabed_size_x, seabed_size_y"
   ]
  },
  {
   "cell_type": "code",
   "execution_count": 178,
   "id": "ad2aef06-8cab-4efa-afd0-c891fa06c6f0",
   "metadata": {},
   "outputs": [
    {
     "data": {
      "text/plain": [
       "7644"
      ]
     },
     "execution_count": 178,
     "metadata": {},
     "output_type": "execute_result"
    }
   ],
   "source": [
    "board = np.zeros(shape=(seabed_size_y, seabed_size_x), dtype=np.int32)\n",
    "for ventline in orthog_lines:\n",
    "    ventline.draw_line_on_seabed(board)\n",
    "np.sum(board>1)"
   ]
  },
  {
   "cell_type": "code",
   "execution_count": 188,
   "id": "804cab81-1ea3-4b8f-8eef-a9b39614412e",
   "metadata": {},
   "outputs": [
    {
     "data": {
      "text/plain": [
       "18627"
      ]
     },
     "execution_count": 188,
     "metadata": {},
     "output_type": "execute_result"
    }
   ],
   "source": [
    "board = np.zeros(shape=(1000, 1000), dtype=np.int32)\n",
    "for ventline in vent_lines:\n",
    "    ventline.draw_line_on_seabed(board)\n",
    "np.sum(board>1)"
   ]
  },
  {
   "cell_type": "markdown",
   "id": "24504c14-1e7f-44eb-b247-ab6d9f8536ab",
   "metadata": {},
   "source": [
    "### Time HG part 2 solution"
   ]
  },
  {
   "cell_type": "code",
   "execution_count": 189,
   "id": "6b097ee2-f64e-438e-a07e-d60a712f0f10",
   "metadata": {},
   "outputs": [
    {
     "name": "stdout",
     "output_type": "stream",
     "text": [
      "5.5 ms ± 79.2 µs per loop (mean ± std. dev. of 7 runs, 100 loops each)\n"
     ]
    }
   ],
   "source": [
    "%%timeit\n",
    "board = np.zeros(shape=(1000, 1000), dtype=np.int32)\n",
    "for ventline in vent_lines:\n",
    "    ventline.draw_line_on_seabed(board)\n",
    "np.sum(board>1)\n"
   ]
  },
  {
   "cell_type": "markdown",
   "id": "e4e09624-8705-4e9a-b9e8-0bd0f062e39f",
   "metadata": {},
   "source": [
    "\n",
    "## JY: totally different solution based on Rasterio"
   ]
  },
  {
   "cell_type": "code",
   "execution_count": 182,
   "id": "2f310d37-a705-4974-9ece-0cf1e07d405a",
   "metadata": {},
   "outputs": [
    {
     "data": {
      "text/plain": [
       "7644"
      ]
     },
     "execution_count": 182,
     "metadata": {},
     "output_type": "execute_result"
    }
   ],
   "source": [
    "from shapely import wkt\n",
    "from rasterio.features import rasterize\n",
    "from rasterio.enums import MergeAlg\n",
    "\n",
    "vents = [wkt.loads(\n",
    "    f\"LINESTRING ({line.replace(',', ' ').replace(' -> ', ', ')})\"\n",
    ") for line in data]\n",
    "orthogonal_vents = [vent for vent in vents if len(set(vent.bounds)) < 4]\n",
    "np.sum(rasterize(orthogonal_vents, out_shape=(1000,1000), merge_alg=MergeAlg(\"ADD\")) >=2)"
   ]
  },
  {
   "cell_type": "code",
   "execution_count": 190,
   "id": "2dfe472d-7b28-438d-a24d-0ae35aac97a0",
   "metadata": {},
   "outputs": [
    {
     "data": {
      "text/plain": [
       "18627"
      ]
     },
     "execution_count": 190,
     "metadata": {},
     "output_type": "execute_result"
    }
   ],
   "source": [
    "np.sum(rasterize(vents, out_shape=(1000,1000), merge_alg=MergeAlg(\"ADD\")) >=2)"
   ]
  },
  {
   "cell_type": "markdown",
   "id": "ea4cf68b-af71-41ea-b32d-54fce338bb8b",
   "metadata": {},
   "source": [
    "### Time JY rio solution\n",
    "\n",
    "Only 50% slower, well worth it for the ease!"
   ]
  },
  {
   "cell_type": "code",
   "execution_count": 191,
   "id": "2f87fbbf-43ee-4630-8753-403716886d19",
   "metadata": {},
   "outputs": [
    {
     "name": "stdout",
     "output_type": "stream",
     "text": [
      "8.19 ms ± 95.2 µs per loop (mean ± std. dev. of 7 runs, 100 loops each)\n"
     ]
    }
   ],
   "source": [
    "%%timeit\n",
    "np.sum(rasterize(vents, out_shape=(1000,1000), merge_alg=MergeAlg(\"ADD\")) >=2)"
   ]
  },
  {
   "cell_type": "markdown",
   "id": "e1558f48-4d27-4b28-a836-0d45370fc03c",
   "metadata": {},
   "source": [
    "### Slick solution from reddit\n",
    "\n",
    "Looks nice but way slower"
   ]
  },
  {
   "cell_type": "code",
   "execution_count": 184,
   "id": "00ac62f6-f425-449c-b3ce-53fb36d6b72f",
   "metadata": {},
   "outputs": [],
   "source": [
    "ls = np.fromregex(open('./input.txt'), '\\d+', [('',int)]*4)"
   ]
  },
  {
   "cell_type": "code",
   "execution_count": 187,
   "id": "320e13cd-cedf-4ff5-ba9d-459b04291236",
   "metadata": {},
   "outputs": [
    {
     "name": "stdout",
     "output_type": "stream",
     "text": [
      "174 ms ± 1.58 ms per loop (mean ± std. dev. of 7 runs, 10 loops each)\n"
     ]
    }
   ],
   "source": [
    "%%timeit\n",
    "grid = np.zeros((2, 1000, 1000))\n",
    "for (x, y, X, Y) in ls:\n",
    "    dx, dy = np.sign([X-x, Y-y])                 \n",
    "    while (x,y) != (X+dx, Y+dy):\n",
    "        grid[dx * dy, x, y] += 1\n",
    "        x+=dx; y+=dy\n",
    "\n",
    "#print((grid[0]>1).sum(), (grid.sum(0)>1).sum())\n",
    "(grid.sum(0)>1).sum()"
   ]
  }
 ],
 "metadata": {
  "kernelspec": {
   "display_name": "Python (basemap)",
   "language": "python",
   "name": "basemap"
  },
  "language_info": {
   "codemirror_mode": {
    "name": "ipython",
    "version": 3
   },
   "file_extension": ".py",
   "mimetype": "text/x-python",
   "name": "python",
   "nbconvert_exporter": "python",
   "pygments_lexer": "ipython3",
   "version": "3.8.0"
  }
 },
 "nbformat": 4,
 "nbformat_minor": 5
}
