{
 "cells": [
  {
   "cell_type": "markdown",
   "id": "e25d3c10-efe1-4222-b191-e6d4f4955f4a",
   "metadata": {},
   "source": [
    "## HG"
   ]
  },
  {
   "cell_type": "code",
   "execution_count": 17,
   "id": "025609de-f01d-46d8-930a-4276ed7898e9",
   "metadata": {},
   "outputs": [],
   "source": [
    "import numpy as np"
   ]
  },
  {
   "cell_type": "code",
   "execution_count": 13,
   "id": "6aa95259-6a92-458b-88c6-48138bfa4934",
   "metadata": {
    "tags": []
   },
   "outputs": [
    {
     "name": "stdout",
     "output_type": "stream",
     "text": [
      "383 µs ± 9.59 µs per loop (mean ± std. dev. of 7 runs, 1000 loops each)\n"
     ]
    }
   ],
   "source": [
    "%%timeit\n",
    "hor = 0\n",
    "ver = 0\n",
    "with open('./input.txt') as file:\n",
    "    for line in file:\n",
    "        direction, amt = line.strip().split()\n",
    "        if direction == 'forward':\n",
    "            hor += int(amt)\n",
    "        elif direction == 'down':\n",
    "            ver += int(amt)\n",
    "        elif direction == 'up':\n",
    "            ver -= int(amt)\n",
    "        else:\n",
    "            assert False, \"oops\"\n",
    "hor * ver"
   ]
  },
  {
   "cell_type": "code",
   "execution_count": 14,
   "id": "93fbb4cb-82f2-472c-a406-e619704d3efa",
   "metadata": {},
   "outputs": [
    {
     "name": "stdout",
     "output_type": "stream",
     "text": [
      "454 µs ± 32.7 µs per loop (mean ± std. dev. of 7 runs, 1000 loops each)\n"
     ]
    }
   ],
   "source": [
    "%%timeit\n",
    "hor = 0\n",
    "ver = 0\n",
    "aim = 0\n",
    "with open('./input.txt') as file:\n",
    "    for line in file:\n",
    "        direction, amt = line.strip().split()\n",
    "        if direction == 'forward':\n",
    "            hor += int(amt)\n",
    "            ver += int(amt) * aim\n",
    "        elif direction == 'down':\n",
    "            aim += int(amt)\n",
    "        elif direction == 'up':\n",
    "            aim -= int(amt)\n",
    "        else:\n",
    "            assert False, \"oops\"\n",
    "hor * ver"
   ]
  },
  {
   "cell_type": "code",
   "execution_count": 4,
   "id": "3c480aec-01bd-40bd-8d6e-58296301bae4",
   "metadata": {},
   "outputs": [
    {
     "data": {
      "text/plain": [
       "1635930"
      ]
     },
     "execution_count": 4,
     "metadata": {},
     "output_type": "execute_result"
    }
   ],
   "source": [
    "hor * ver"
   ]
  },
  {
   "cell_type": "markdown",
   "id": "c8867db9-d082-4ef3-a859-7a91b05cfa54",
   "metadata": {},
   "source": [
    "## JP"
   ]
  },
  {
   "cell_type": "code",
   "execution_count": 1,
   "id": "ca4e4f54-5441-4d59-b05b-870e1224e803",
   "metadata": {
    "tags": []
   },
   "outputs": [
    {
     "name": "stdout",
     "output_type": "stream",
     "text": [
      "526 µs ± 8.91 µs per loop (mean ± std. dev. of 7 runs, 1000 loops each)\n"
     ]
    }
   ],
   "source": [
    "%%timeit\n",
    "\n",
    "class Submarine:\n",
    "    \n",
    "    def __init__(self):\n",
    "        self.forward = 0\n",
    "        self.depth = 0\n",
    "        self.aim = 0\n",
    "    \n",
    "    def move(self, instruction: str, distance: int):\n",
    "        if instruction == \"forward\":\n",
    "            self.forward += distance\n",
    "            self.depth += distance * self.aim\n",
    "        elif instruction == \"up\":\n",
    "            self.aim -= distance\n",
    "        elif instruction == \"down\":\n",
    "            self.aim += distance\n",
    "\n",
    "\n",
    "# load moves\n",
    "moves = open(\"./input.txt\", \"r\").read().split(\"\\n\")\n",
    "\n",
    "# run all moves\n",
    "submarine = Submarine()\n",
    "for move in moves[:-1]:\n",
    "    intsruction, distance = move.split()\n",
    "    submarine.move(intsruction, int(distance))\n",
    "\n",
    "# multiply distances\n",
    "submarine.depth * submarine.forward"
   ]
  },
  {
   "cell_type": "markdown",
   "id": "4c0ed24e-7425-4f70-b5ec-81a04323048c",
   "metadata": {},
   "source": [
    "## JY"
   ]
  },
  {
   "cell_type": "code",
   "execution_count": 14,
   "id": "870a8570-6c69-4496-8b17-88e51c8c59e4",
   "metadata": {},
   "outputs": [
    {
     "name": "stdout",
     "output_type": "stream",
     "text": [
      "406 µs ± 6.99 µs per loop (mean ± std. dev. of 7 runs, 1000 loops each)\n"
     ]
    }
   ],
   "source": [
    "%%timeit\n",
    "# Part One\n",
    "data = open('./input.txt').readlines()\n",
    "horizontal = sum([int(instr.split()[1]) for instr in data if \"forward\" in instr])\n",
    "depth = sum([int(instr.replace(\"up \", \"-\").replace(\"down \", \"\")) for instr in data if instr.startswith((\"up\", \"down\"))])\n",
    "horizontal*depth"
   ]
  },
  {
   "cell_type": "code",
   "execution_count": 16,
   "id": "150edbd8-03ad-4aae-a098-dc6f81f44963",
   "metadata": {},
   "outputs": [
    {
     "name": "stdout",
     "output_type": "stream",
     "text": [
      "405 µs ± 9.53 µs per loop (mean ± std. dev. of 7 runs, 1000 loops each)\n"
     ]
    }
   ],
   "source": [
    "%%timeit\n",
    "# Part Two\n",
    "data = open('./input.txt').readlines()\n",
    "aim, horizontal, depth = 0, 0, 0\n",
    "for instr in data:\n",
    "    aim += int(instr.replace(\"up \", \"-\")) if \"up\" in instr else 0\n",
    "    aim += int(instr.replace(\"down \", \"\")) if \"down\" in instr else 0\n",
    "    if \"forward\" in instr:\n",
    "        forward = int(instr.split()[1])\n",
    "        horizontal += forward\n",
    "        depth += forward*aim\n",
    "horizontal*depth"
   ]
  },
  {
   "cell_type": "markdown",
   "id": "752a2e58-81c1-494c-979a-d65d80bc329a",
   "metadata": {},
   "source": [
    "## FH"
   ]
  },
  {
   "cell_type": "code",
   "execution_count": 43,
   "id": "bb910d3e-6893-4310-917f-8e4fd731e011",
   "metadata": {},
   "outputs": [],
   "source": [
    "import re "
   ]
  },
  {
   "cell_type": "code",
   "execution_count": 46,
   "id": "0f269c97-913f-4d39-9856-2069498335b7",
   "metadata": {},
   "outputs": [],
   "source": [
    "data = open(\"./input.txt\", \"r\").read()\n",
    "\n",
    "directions = np.array(re.split('[\\n \\s]', data), dtype=np.str_)\n",
    "\n",
    "instruction = directions[::2]\n",
    "amount = directions[1::2].astype(np.int8)\n",
    "\n",
    "forward = instruction == \"forward\"\n",
    "down = instruction == \"down\"\n",
    "up = instruction == \"up\""
   ]
  },
  {
   "cell_type": "markdown",
   "id": "a6f8d5c6-ee05-406c-a8aa-3960c70357e7",
   "metadata": {},
   "source": [
    "part 2 excl data read"
   ]
  },
  {
   "cell_type": "code",
   "execution_count": 48,
   "id": "7edf0305-61f8-4425-a3db-302280dd660f",
   "metadata": {},
   "outputs": [
    {
     "name": "stdout",
     "output_type": "stream",
     "text": [
      "51.4 µs ± 3.37 µs per loop (mean ± std. dev. of 7 runs, 10000 loops each)\n"
     ]
    }
   ],
   "source": [
    "%%timeit\n",
    "# Part 2\n",
    "aim = amount.copy()\n",
    "\n",
    "aim[instruction == \"up\"] = aim[up] * -1\n",
    "aim[instruction == \"forward\"] = 0\n",
    "\n",
    "aim_when_forward = np.cumsum(aim)[forward]\n",
    "aim_changes = aim_when_forward * amount[forward]\n",
    "change_in_depth = np.sum(aim_changes)\n",
    "\n",
    "change_in_depth * distance_forward"
   ]
  },
  {
   "cell_type": "code",
   "execution_count": 41,
   "id": "d6205870-1f5c-4d17-ab76-3428d9cf9f63",
   "metadata": {},
   "outputs": [
    {
     "name": "stdout",
     "output_type": "stream",
     "text": [
      "909 µs ± 21.5 µs per loop (mean ± std. dev. of 7 runs, 1000 loops each)\n"
     ]
    }
   ],
   "source": [
    "%%timeit\n",
    "data = open(\"./input.txt\", \"r\").read()\n",
    "\n",
    "directions = np.array(re.split('[\\n \\s]', data), dtype=np.str_)\n",
    "\n",
    "instruction = directions[::2]\n",
    "amount = directions[1::2].astype(np.int8)\n",
    "\n",
    "forward = instruction == \"forward\"\n",
    "down = instruction == \"down\"\n",
    "up = instruction == \"up\"\n",
    "# Part 1\n",
    "distance_forward = np.sum(amount[forward])\n",
    "distance_down = np.sum(amount[down])\n",
    "distance_up = np.sum(amount[up])\n",
    "\n",
    "change_in_depth = distance_down - distance_up\n",
    "distance_forward * change_in_depth"
   ]
  },
  {
   "cell_type": "code",
   "execution_count": 52,
   "id": "f5dce539-2369-40f4-a979-87aa55ec62a4",
   "metadata": {},
   "outputs": [
    {
     "name": "stdout",
     "output_type": "stream",
     "text": [
      "534 µs ± 7.08 µs per loop (mean ± std. dev. of 7 runs, 1000 loops each)\n"
     ]
    }
   ],
   "source": [
    "%%timeit\n",
    "np.array(re.split('[\\n \\s]', data), dtype=np.str_)"
   ]
  },
  {
   "cell_type": "code",
   "execution_count": 42,
   "id": "fc973fc7-bb9a-4aaa-bd73-c29721012457",
   "metadata": {},
   "outputs": [
    {
     "name": "stdout",
     "output_type": "stream",
     "text": [
      "910 µs ± 6.89 µs per loop (mean ± std. dev. of 7 runs, 1000 loops each)\n"
     ]
    }
   ],
   "source": [
    "%%timeit\n",
    "data = open(\"./input.txt\", \"r\").read()\n",
    "\n",
    "directions = np.array(re.split('[\\n \\s]', data), dtype=np.str_)\n",
    "\n",
    "instruction = directions[::2]\n",
    "amount = directions[1::2].astype(np.int8)\n",
    "\n",
    "forward = instruction == \"forward\"\n",
    "down = instruction == \"down\"\n",
    "up = instruction == \"up\"\n",
    "# Part 2\n",
    "aim = amount.copy()\n",
    "\n",
    "aim[instruction == \"up\"] = aim[up] * -1\n",
    "aim[instruction == \"forward\"] = 0\n",
    "\n",
    "aim_when_forward = np.cumsum(aim)[forward]\n",
    "aim_changes = aim_when_forward * amount[forward]\n",
    "change_in_depth = np.sum(aim_changes)\n",
    "\n",
    "change_in_depth * distance_forward"
   ]
  },
  {
   "cell_type": "code",
   "execution_count": null,
   "id": "d24f4aac-76f6-4a47-8e53-36bd2d504a6e",
   "metadata": {},
   "outputs": [],
   "source": []
  }
 ],
 "metadata": {
  "kernelspec": {
   "display_name": "Python 3",
   "language": "python",
   "name": "python3"
  },
  "language_info": {
   "codemirror_mode": {
    "name": "ipython",
    "version": 3
   },
   "file_extension": ".py",
   "mimetype": "text/x-python",
   "name": "python",
   "nbconvert_exporter": "python",
   "pygments_lexer": "ipython3",
   "version": "3.8.8"
  }
 },
 "nbformat": 4,
 "nbformat_minor": 5
}
