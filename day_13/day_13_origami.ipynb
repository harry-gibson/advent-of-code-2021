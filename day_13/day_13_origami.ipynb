{
 "cells": [
  {
   "cell_type": "code",
   "execution_count": 23,
   "id": "a101baab-408b-4bcb-94b1-b8c937888891",
   "metadata": {},
   "outputs": [],
   "source": [
    "import numpy as np"
   ]
  },
  {
   "cell_type": "code",
   "execution_count": 22,
   "id": "2659281e-85d3-4a3e-be01-2445b8e44e82",
   "metadata": {},
   "outputs": [],
   "source": [
    "Xs = [] \n",
    "Ys = []\n",
    "folds = []\n",
    "with open('./input.txt') as file:\n",
    "    while (line:=file.readline().strip()) != \"\":\n",
    "        x, y = line.split(',')\n",
    "        Xs.append(int(x))\n",
    "        Ys.append(int(y))\n",
    "    while (line:=file.readline().strip()) != \"\":\n",
    "        instr = line.strip('fold along ')\n",
    "        axis, pos = instr.split('=')\n",
    "        folds.append((axis, int(pos)))\n",
    "        \n",
    "\n",
    "        "
   ]
  },
  {
   "cell_type": "code",
   "execution_count": 31,
   "id": "f287ef78-6a8f-4f10-a3be-c6b991321272",
   "metadata": {
    "tags": []
   },
   "outputs": [],
   "source": [
    "xshape = max(Xs) + 1\n",
    "yshape = max(Ys) + 1\n",
    "paper = np.zeros(shape=(yshape, xshape), dtype=int)"
   ]
  },
  {
   "cell_type": "code",
   "execution_count": 32,
   "id": "c5bb5648-891b-4a6d-9aea-63bba10ffbcc",
   "metadata": {},
   "outputs": [],
   "source": [
    "paper[Ys, Xs] = 1"
   ]
  },
  {
   "cell_type": "code",
   "execution_count": 91,
   "id": "3452d17a-4ddb-4e7f-9125-3bb14a44caa2",
   "metadata": {},
   "outputs": [
    {
     "name": "stdout",
     "output_type": "stream",
     "text": [
      "Part 1: 753\n"
     ]
    }
   ],
   "source": [
    "folded = paper.copy()\n",
    "for i, instr in enumerate(folds):\n",
    "    axis, foldline = instr\n",
    "    if axis=='x':\n",
    "        assert folded.shape[1] == foldline * 2 + 1\n",
    "        folded = folded[:, :foldline] + folded[:, foldline+1:][:, ::-1]\n",
    "    else:\n",
    "        assert axis=='y'\n",
    "        assert folded.shape[0] == foldline * 2 + 1\n",
    "        folded = folded[:foldline, :] + folded[foldline+1:, :][::-1, :]\n",
    "    if i == 0:\n",
    "        print(f\"Part 1: {(folded>0).sum()}\")\n",
    "        "
   ]
  },
  {
   "cell_type": "code",
   "execution_count": 89,
   "id": "0049b949-a602-4616-954a-2d6ac76808b3",
   "metadata": {},
   "outputs": [],
   "source": [
    "from matplotlib.pyplot import imshow"
   ]
  },
  {
   "cell_type": "code",
   "execution_count": 90,
   "id": "7aa18284-b0bb-4b4b-83ec-888beddc99cf",
   "metadata": {},
   "outputs": [
    {
     "data": {
      "text/plain": [
       "<matplotlib.image.AxesImage at 0x7f590a897cd0>"
      ]
     },
     "execution_count": 90,
     "metadata": {},
     "output_type": "execute_result"
    },
    {
     "data": {
      "image/png": "[encoded data removed]",
      "text/plain": [
       "<Figure size 432x288 with 1 Axes>"
      ]
     },
     "metadata": {
      "needs_background": "light"
     },
     "output_type": "display_data"
    }
   ],
   "source": [
    "dots = (folded > 0).astype(int)\n",
    "imshow(dots)"
   ]
  }
 ],
 "metadata": {
  "kernelspec": {
   "display_name": "Python 3",
   "language": "python",
   "name": "python3"
  },
  "language_info": {
   "codemirror_mode": {
    "name": "ipython",
    "version": 3
   },
   "file_extension": ".py",
   "mimetype": "text/x-python",
   "name": "python",
   "nbconvert_exporter": "python",
   "pygments_lexer": "ipython3",
   "version": "3.8.8"
  }
 },
 "nbformat": 4,
 "nbformat_minor": 5
}
